{
 "cells": [
  {
   "cell_type": "markdown",
   "id": "d066083b",
   "metadata": {},
   "source": [
    "# Constructive Heuristic Template\n",
    "# Type here the Name of the Combinatorial problem you studied\n",
    "Prof. María Angélica Salazar Aguilar\n",
    "\n",
    "Selected Topics of Optimization\n",
    "\n",
    "---\n",
    "This notebook is a template for documenting a combinatorial optimization problem and its constructive heuristic. Follow the instructions in each section and provide the required content.\n",
    "\n"
   ]
  },
  {
   "cell_type": "markdown",
   "id": "82cfb366",
   "metadata": {},
   "source": [
    "## 1. Team: TeamID\n",
    "\n",
    "Provide the names, student IDs, and contact information of all team members below.\n",
    "\n",
    "|Student ID      | Name  | Email             |\n",
    "|----------------|------------|-------------------|\n",
    "|                |            |                   |\n",
    "|                |            |                   |\n",
    "|                |            |                   |"
   ]
  },
  {
   "cell_type": "markdown",
   "id": "ebe5100e",
   "metadata": {},
   "source": [
    "## 2. General Description of the Problem\n",
    "\n",
    "Write a brief overview of the combinatorial problem being studied, including its relevance and applications."
   ]
  },
  {
   "cell_type": "markdown",
   "id": "2e5eceff",
   "metadata": {},
   "source": [
    "## 3. Mathematical Formulation\n",
    "\n",
    "Present the mathematical formulation of the problem, including variables, constraints, and objective function. Use LaTeX for equations, for example:\n",
    "\n",
    "Let $x$ be a decision variable, $C$ the cost matrix, and $S$ the set of feasible solutions.\n",
    "\n",
    "$$\n",
    "\\text{Minimize} \\quad f(x) = \\sum_{i \\in S} C_i x_i\n",
    "$$\n",
    "\n",
    "Subject to:\n",
    "$$\n",
    "\\sum_{i \\in S} x_i = 1\n",
    "$$\n",
    "$$\n",
    " x_i \\in \\{0,1\\} \\quad \\forall i \\in S\n",
    "$$"
   ]
  },
  {
   "cell_type": "markdown",
   "id": "a59c3e91",
   "metadata": {},
   "source": [
    "## 4. Pseudocode of the Proposed Constructive Heuristic\n",
    "\n",
    "Write the pseudocode for the constructive heuristic proposed to solve the problem. Use code formatting for clarity.\n",
    "\n",
    "```\n",
    "Input: [Describe input]\n",
    "Initialize solution\n",
    "While [termination condition not met]:\n",
    "    Select next element according to heuristic\n",
    "    Update solution\n",
    "Output: [Describe output]\n",
    "```"
   ]
  },
  {
   "cell_type": "markdown",
   "id": "3cb99d74",
   "metadata": {},
   "source": [
    "## 5. Description and Definition of Main Functions\n",
    "\n",
    "Describe the main functions used in the heuristic, including their purpose, inputs, and outputs. For example:\n",
    "\n",
    "- `load_data(file_path)`: Loads problem data from a file.\n",
    "- `construct_solution(data)`: Builds a solution using the heuristic.\n",
    "- `evaluate_solution(solution)`: Computes the objective value of a solution.\n",
    "- `visualize_solution(solution)`: Plots the solution.\n",
    "\n",
    "Add more functions as needed and explain their roles."
   ]
  },
  {
   "cell_type": "code",
   "execution_count": 52,
   "id": "d5d60fce",
   "metadata": {},
   "outputs": [],
   "source": [
    "# 6. Implementation of the Constructive Heuristic\n",
    "# Implement your constructive heuristic below using Python.\n",
    "\n",
    "def load_data(file_path):\n",
    "    # TODO: Implement data loading\n",
    "    pass\n",
    "\n",
    "def construct_solution(data):\n",
    "    # TODO: Implement heuristic construction\n",
    "    pass\n",
    "\n",
    "def evaluate_solution(solution):\n",
    "    # TODO: Implement solution evaluation\n",
    "    pass\n",
    "\n",
    "def visualize_solution(solution):\n",
    "    # TODO: Implement solution visualization\n",
    "    pass\n"
   ]
  },
  {
   "cell_type": "code",
   "execution_count": 53,
   "id": "8233cd88",
   "metadata": {},
   "outputs": [],
   "source": [
    "## 7. Main Function to Run the Code\n",
    "# Write a main function that runs the heuristic on sample instances.\n",
    "\n",
    "def main():\n",
    "    file_path = 'your_data_file.csv'  # Update with your data file\n",
    "    data = load_data(file_path)\n",
    "    solution = construct_solution(data)\n",
    "    value = evaluate_solution(solution)\n",
    "    print('Solution:', solution)\n",
    "    print('Objective value:', value)\n",
    "    visualize_solution(solution)\n",
    "\n",
    "# Uncomment to run\n",
    "# main()"
   ]
  },
  {
   "cell_type": "markdown",
   "id": "4c974408",
   "metadata": {},
   "source": [
    "## 8. Computational Results and Discussion\n",
    "Provide the url where you downloaded the  tested instances and mention the main characteristics of the ones you tested.\n",
    "\n",
    "Include a table summarizing the results of at least 15 different tested instances. Discuss the performance and findings below.\n",
    "\n",
    "| Instance | Objective Value Heuristic | Objective Value (Optimal) | Gap (%) |\n",
    "|----------|----------|----------------|----------|\n",
    "|          |          |                |          |\n",
    "|          |          |                |          |\n",
    "\n",
    "**Discussion:**\n",
    "- Summarize the effectiveness of your heuristic.\n",
    "- Compare results and computation time across instances.\n",
    "- Discuss any patterns or insights observed.\n"
   ]
  },
  {
   "cell_type": "markdown",
   "id": "fcfd5779",
   "metadata": {},
   "source": [
    "## 9. General Conclusions\n",
    "\n",
    "Summarize the main findings, lessons learned, and possible future work."
   ]
  },
  {
   "cell_type": "markdown",
   "id": "0dda0923",
   "metadata": {},
   "source": [
    "## 10. Revised References\n",
    "\n",
    "List all references and sources used in your project. Format them according to a standard citation style (e.g., APA, IEEE).\n",
    "\n",
    "- Author, Title, Journal/Conference, Year.\n",
    "- Book, Author, Year.\n",
    "- Website, URL, Access Date."
   ]
  }
 ],
 "metadata": {
  "kernelspec": {
   "display_name": "Python 3",
   "language": "python",
   "name": "python3"
  },
  "language_info": {
   "codemirror_mode": {
    "name": "ipython",
    "version": 3
   },
   "file_extension": ".py",
   "mimetype": "text/x-python",
   "name": "python",
   "nbconvert_exporter": "python",
   "pygments_lexer": "ipython3",
   "version": "3.12.6"
  }
 },
 "nbformat": 4,
 "nbformat_minor": 5
}
